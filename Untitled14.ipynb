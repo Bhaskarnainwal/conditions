{
  "nbformat": 4,
  "nbformat_minor": 0,
  "metadata": {
    "colab": {
      "provenance": [],
      "authorship_tag": "ABX9TyNy3yLSHIExLvamTrM3vg9t",
      "include_colab_link": true
    },
    "kernelspec": {
      "name": "python3",
      "display_name": "Python 3"
    },
    "language_info": {
      "name": "python"
    }
  },
  "cells": [
    {
      "cell_type": "markdown",
      "metadata": {
        "id": "view-in-github",
        "colab_type": "text"
      },
      "source": [
        "<a href=\"https://colab.research.google.com/github/Bhaskarnainwal/conditions/blob/main/Untitled14.ipynb\" target=\"_parent\"><img src=\"https://colab.research.google.com/assets/colab-badge.svg\" alt=\"Open In Colab\"/></a>"
      ]
    },
    {
      "cell_type": "code",
      "execution_count": 34,
      "metadata": {
        "colab": {
          "base_uri": "https://localhost:8080/",
          "height": 280
        },
        "id": "uaHpXRT4Ydar",
        "outputId": "8d3219bc-d4c7-4537-c01c-f68be1b39326"
      },
      "outputs": [
        {
          "output_type": "stream",
          "name": "stderr",
          "text": [
            "<>:22: SyntaxWarning: 'list' object is not callable; perhaps you missed a comma?\n",
            "<>:22: SyntaxWarning: 'list' object is not callable; perhaps you missed a comma?\n"
          ]
        },
        {
          "output_type": "stream",
          "name": "stdout",
          "text": [
            "2\n",
            "10\n"
          ]
        },
        {
          "output_type": "error",
          "ename": "NameError",
          "evalue": "name 'y' is not defined",
          "traceback": [
            "\u001b[0;31m---------------------------------------------------------------------------\u001b[0m",
            "\u001b[0;31mNameError\u001b[0m                                 Traceback (most recent call last)",
            "\u001b[0;32m<ipython-input-34-8ba3528577f2>\u001b[0m in \u001b[0;36m<cell line: 0>\u001b[0;34m()\u001b[0m\n\u001b[1;32m      6\u001b[0m \u001b[0;31m#import statement\u001b[0m\u001b[0;34m\u001b[0m\u001b[0;34m\u001b[0m\u001b[0m\n\u001b[1;32m      7\u001b[0m \u001b[0;32mimport\u001b[0m \u001b[0mpandas\u001b[0m \u001b[0;32mas\u001b[0m \u001b[0mpd\u001b[0m\u001b[0;34m\u001b[0m\u001b[0;34m\u001b[0m\u001b[0m\n\u001b[0;32m----> 8\u001b[0;31m \u001b[0mprint\u001b[0m\u001b[0;34m(\u001b[0m\u001b[0my\u001b[0m\u001b[0;34m)\u001b[0m\u001b[0;34m\u001b[0m\u001b[0;34m\u001b[0m\u001b[0m\n\u001b[0m\u001b[1;32m      9\u001b[0m \u001b[0mmy_list\u001b[0m\u001b[0;34m=\u001b[0m\u001b[0;34m[\u001b[0m\u001b[0;36m1\u001b[0m\u001b[0;34m]\u001b[0m\u001b[0;34m\u001b[0m\u001b[0;34m\u001b[0m\u001b[0m\n\u001b[1;32m     10\u001b[0m \u001b[0mmy_tuple\u001b[0m\u001b[0;34m=\u001b[0m\u001b[0;34m(\u001b[0m\u001b[0;36m1\u001b[0m\u001b[0;34m,\u001b[0m\u001b[0;34m)\u001b[0m\u001b[0;34m\u001b[0m\u001b[0;34m\u001b[0m\u001b[0m\n",
            "\u001b[0;31mNameError\u001b[0m: name 'y' is not defined"
          ]
        }
      ],
      "source": [
        "#assign statement\n",
        "x=3\n",
        "print(1+1)\n",
        "print(len(\"hello team\"))\n",
        "a='mighgty'\n",
        "#import statement\n",
        "import pandas as pd\n",
        "print(y)\n",
        "my_list=[1]\n",
        "my_tuple=(1,)\n",
        "my_list,my_tuple\n",
        "a=(1+2+3+4+5+6)\n",
        "atype(a)\n",
        "a=1\n",
        "b=2\n",
        "completions_sorting_key\n",
        "c=3\n",
        "a=1;b=2;c=3\n",
        "a=1\n",
        "b=2\n",
        "c=3\n",
        "a,b,c=[1,'a', true](45,67), {'name':'vikash','Age':27 }\n",
        "#this is a comment\n",
        "#print('hello')\n",
        "print('hello')\n",
        "a=2\n",
        "b=1\n",
        "                           #if (b>a):\n",
        "                           #a=5\n",
        "                           #b=5 a,b=1,2\n",
        "if a<b :\n",
        "  if case1:\n",
        "    perform\n",
        "perform\n",
        "perform\n",
        "i=4\n",
        "if i==2:\n",
        "  print(2)\n",
        "  print(3)\n",
        "  print('not 2 and 3')\n",
        "if x==30:\n",
        "  print(f'x is {x}')\n",
        "x==20\n",
        "if false:\n",
        "  print('it was true')\n",
        "#consider the following statement\n",
        "if false:\n",
        "  print(\"what do u say\")\n",
        "else:\n",
        "  print(\"i have nouthing to say\")\n",
        "if [none]:\n",
        "  print(\"well i had a really bad day\")\n",
        "else:\n",
        "  print(\"come on u\")\n",
        "if{1:2,2:3}:\n",
        "  print(\"this is true \")\n",
        "else:\n",
        "  print(\"this is false\")"
      ]
    },
    {
      "cell_type": "code",
      "source": [],
      "metadata": {
        "id": "_uvQEI0wagzQ"
      },
      "execution_count": null,
      "outputs": []
    }
  ]
}