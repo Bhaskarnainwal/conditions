{
  "nbformat": 4,
  "nbformat_minor": 0,
  "metadata": {
    "colab": {
      "provenance": [],
      "authorship_tag": "ABX9TyMobfvuND1kz9+Q7qBJtqHq",
      "include_colab_link": true
    },
    "kernelspec": {
      "name": "python3",
      "display_name": "Python 3"
    },
    "language_info": {
      "name": "python"
    }
  },
  "cells": [
    {
      "cell_type": "markdown",
      "metadata": {
        "id": "view-in-github",
        "colab_type": "text"
      },
      "source": [
        "<a href=\"https://colab.research.google.com/github/Bhaskarnainwal/conditions/blob/main/Untitled14.ipynb\" target=\"_parent\"><img src=\"https://colab.research.google.com/assets/colab-badge.svg\" alt=\"Open In Colab\"/></a>"
      ]
    },
    {
      "cell_type": "code",
      "execution_count": 22,
      "metadata": {
        "colab": {
          "base_uri": "https://localhost:8080/",
          "height": 106
        },
        "id": "uaHpXRT4Ydar",
        "outputId": "2046e4bc-87a2-41e6-9ad8-804ca316e017"
      },
      "outputs": [
        {
          "output_type": "error",
          "ename": "SyntaxError",
          "evalue": "invalid syntax (<ipython-input-22-68e3489dbf4e>, line 39)",
          "traceback": [
            "\u001b[0;36m  File \u001b[0;32m\"<ipython-input-22-68e3489dbf4e>\"\u001b[0;36m, line \u001b[0;32m39\u001b[0m\n\u001b[0;31m    else i==3:\u001b[0m\n\u001b[0m    ^\u001b[0m\n\u001b[0;31mSyntaxError\u001b[0m\u001b[0;31m:\u001b[0m invalid syntax\n"
          ]
        }
      ],
      "source": [
        "#assign statement\n",
        "x=3\n",
        "print(1+1)\n",
        "print(len(\"hello team\"))\n",
        "a='mighgty'\n",
        "#import statement\n",
        "import pandas as pd\n",
        "print(y)\n",
        "my_list=[1]\n",
        "my_tuple=(1,)\n",
        "my_list,my_tuple\n",
        "a=(1+2+3+4+5+6)\n",
        "atype(a)\n",
        "a=1\n",
        "b=2\n",
        "completions_sorting_key\n",
        "c=3\n",
        "a=1;b=2;c=3\n",
        "a=1\n",
        "b=2\n",
        "c=3\n",
        "a,b,c=[1,'a', true](45,67), {'name':'vikash','Age':27 }\n",
        "#this is a comment\n",
        "#print('hello')\n",
        "print('hello')\n",
        "a=2\n",
        "b=1\n",
        "                           #if (b>a):\n",
        "                           #a=5\n",
        "                           #b=5 a,b=1,2\n",
        "if a<b :\n",
        "  if case1:\n",
        "    perform\n",
        "perform\n",
        "perform\n",
        "i=4\n",
        "if i==2:\n",
        "  print(2)\n",
        "  else i==3:\n",
        "  print(3)\n",
        "  else:\n",
        "    print('not 2 and 3')\n",
        "if x==30:\n",
        "  printx is greater than 10!\n",
        "  print(f'x is {x}')\n",
        "x==20\n",
        "if false:\n",
        "  print('it was true')\n",
        "#consider the following statement\n",
        "if false:\n",
        "  print(\"what do u say\")\n",
        "else:\n",
        "  print(\"i have nouthing to say\")\n",
        "if [none]:\n",
        "  print(\"well i had a really bad day\")\n",
        "else:\n",
        "  print(\"come on u\")\n",
        "if{1:2,2:3}:\n",
        "  print(\"this is true \")\n",
        "else:\n",
        "  print(\"this is false\")"
      ]
    },
    {
      "cell_type": "code",
      "source": [],
      "metadata": {
        "id": "_uvQEI0wagzQ"
      },
      "execution_count": null,
      "outputs": []
    }
  ]
}